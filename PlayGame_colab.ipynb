{
  "nbformat": 4,
  "nbformat_minor": 0,
  "metadata": {
    "colab": {
      "provenance": []
    },
    "kernelspec": {
      "name": "python3",
      "display_name": "Python 3"
    },
    "language_info": {
      "name": "python"
    }
  },
  "cells": [
    {
      "cell_type": "code",
      "source": [
        "!wget https://raw.githubusercontent.com/mich1803/Codenames-LLM/main/codenamesLLM.py\n",
        "!pip install python-dotenv\n",
        "!pip install openai\n",
        "!pip install anthropic\n",
        "!pip install -q -U google-generativeai\n",
        "import codenamesLLM\n",
        "from tqdm import tqdm\n",
        "#UPLOAD THE .env FILE WITH THE KEYS"
      ],
      "metadata": {
        "colab": {
          "base_uri": "https://localhost:8080/"
        },
        "id": "rPHiOELyJti7",
        "outputId": "f27f65e5-e295-47c8-81c5-13f046ad11c3"
      },
      "execution_count": 1,
      "outputs": [
        {
          "output_type": "stream",
          "name": "stdout",
          "text": [
            "--2024-12-05 00:28:24--  https://raw.githubusercontent.com/mich1803/Codenames-LLM/main/codenamesLLM.py\n",
            "Resolving raw.githubusercontent.com (raw.githubusercontent.com)... 185.199.111.133, 185.199.110.133, 185.199.108.133, ...\n",
            "Connecting to raw.githubusercontent.com (raw.githubusercontent.com)|185.199.111.133|:443... connected.\n",
            "HTTP request sent, awaiting response... 200 OK\n",
            "Length: 39818 (39K) [text/plain]\n",
            "Saving to: ‘codenamesLLM.py’\n",
            "\n",
            "\rcodenamesLLM.py       0%[                    ]       0  --.-KB/s               \rcodenamesLLM.py     100%[===================>]  38.88K  --.-KB/s    in 0.01s   \n",
            "\n",
            "2024-12-05 00:28:24 (3.63 MB/s) - ‘codenamesLLM.py’ saved [39818/39818]\n",
            "\n",
            "Collecting python-dotenv\n",
            "  Downloading python_dotenv-1.0.1-py3-none-any.whl.metadata (23 kB)\n",
            "Downloading python_dotenv-1.0.1-py3-none-any.whl (19 kB)\n",
            "Installing collected packages: python-dotenv\n",
            "Successfully installed python-dotenv-1.0.1\n",
            "Requirement already satisfied: openai in /usr/local/lib/python3.10/dist-packages (1.54.4)\n",
            "Requirement already satisfied: anyio<5,>=3.5.0 in /usr/local/lib/python3.10/dist-packages (from openai) (3.7.1)\n",
            "Requirement already satisfied: distro<2,>=1.7.0 in /usr/local/lib/python3.10/dist-packages (from openai) (1.9.0)\n",
            "Requirement already satisfied: httpx<1,>=0.23.0 in /usr/local/lib/python3.10/dist-packages (from openai) (0.27.2)\n",
            "Requirement already satisfied: jiter<1,>=0.4.0 in /usr/local/lib/python3.10/dist-packages (from openai) (0.7.1)\n",
            "Requirement already satisfied: pydantic<3,>=1.9.0 in /usr/local/lib/python3.10/dist-packages (from openai) (2.9.2)\n",
            "Requirement already satisfied: sniffio in /usr/local/lib/python3.10/dist-packages (from openai) (1.3.1)\n",
            "Requirement already satisfied: tqdm>4 in /usr/local/lib/python3.10/dist-packages (from openai) (4.66.6)\n",
            "Requirement already satisfied: typing-extensions<5,>=4.11 in /usr/local/lib/python3.10/dist-packages (from openai) (4.12.2)\n",
            "Requirement already satisfied: idna>=2.8 in /usr/local/lib/python3.10/dist-packages (from anyio<5,>=3.5.0->openai) (3.10)\n",
            "Requirement already satisfied: exceptiongroup in /usr/local/lib/python3.10/dist-packages (from anyio<5,>=3.5.0->openai) (1.2.2)\n",
            "Requirement already satisfied: certifi in /usr/local/lib/python3.10/dist-packages (from httpx<1,>=0.23.0->openai) (2024.8.30)\n",
            "Requirement already satisfied: httpcore==1.* in /usr/local/lib/python3.10/dist-packages (from httpx<1,>=0.23.0->openai) (1.0.7)\n",
            "Requirement already satisfied: h11<0.15,>=0.13 in /usr/local/lib/python3.10/dist-packages (from httpcore==1.*->httpx<1,>=0.23.0->openai) (0.14.0)\n",
            "Requirement already satisfied: annotated-types>=0.6.0 in /usr/local/lib/python3.10/dist-packages (from pydantic<3,>=1.9.0->openai) (0.7.0)\n",
            "Requirement already satisfied: pydantic-core==2.23.4 in /usr/local/lib/python3.10/dist-packages (from pydantic<3,>=1.9.0->openai) (2.23.4)\n",
            "Collecting anthropic\n",
            "  Downloading anthropic-0.40.0-py3-none-any.whl.metadata (23 kB)\n",
            "Requirement already satisfied: anyio<5,>=3.5.0 in /usr/local/lib/python3.10/dist-packages (from anthropic) (3.7.1)\n",
            "Requirement already satisfied: distro<2,>=1.7.0 in /usr/local/lib/python3.10/dist-packages (from anthropic) (1.9.0)\n",
            "Requirement already satisfied: httpx<1,>=0.23.0 in /usr/local/lib/python3.10/dist-packages (from anthropic) (0.27.2)\n",
            "Requirement already satisfied: jiter<1,>=0.4.0 in /usr/local/lib/python3.10/dist-packages (from anthropic) (0.7.1)\n",
            "Requirement already satisfied: pydantic<3,>=1.9.0 in /usr/local/lib/python3.10/dist-packages (from anthropic) (2.9.2)\n",
            "Requirement already satisfied: sniffio in /usr/local/lib/python3.10/dist-packages (from anthropic) (1.3.1)\n",
            "Requirement already satisfied: typing-extensions<5,>=4.7 in /usr/local/lib/python3.10/dist-packages (from anthropic) (4.12.2)\n",
            "Requirement already satisfied: idna>=2.8 in /usr/local/lib/python3.10/dist-packages (from anyio<5,>=3.5.0->anthropic) (3.10)\n",
            "Requirement already satisfied: exceptiongroup in /usr/local/lib/python3.10/dist-packages (from anyio<5,>=3.5.0->anthropic) (1.2.2)\n",
            "Requirement already satisfied: certifi in /usr/local/lib/python3.10/dist-packages (from httpx<1,>=0.23.0->anthropic) (2024.8.30)\n",
            "Requirement already satisfied: httpcore==1.* in /usr/local/lib/python3.10/dist-packages (from httpx<1,>=0.23.0->anthropic) (1.0.7)\n",
            "Requirement already satisfied: h11<0.15,>=0.13 in /usr/local/lib/python3.10/dist-packages (from httpcore==1.*->httpx<1,>=0.23.0->anthropic) (0.14.0)\n",
            "Requirement already satisfied: annotated-types>=0.6.0 in /usr/local/lib/python3.10/dist-packages (from pydantic<3,>=1.9.0->anthropic) (0.7.0)\n",
            "Requirement already satisfied: pydantic-core==2.23.4 in /usr/local/lib/python3.10/dist-packages (from pydantic<3,>=1.9.0->anthropic) (2.23.4)\n",
            "Downloading anthropic-0.40.0-py3-none-any.whl (199 kB)\n",
            "\u001b[2K   \u001b[90m━━━━━━━━━━━━━━━━━━━━━━━━━━━━━━━━━━━━━━━━\u001b[0m \u001b[32m199.5/199.5 kB\u001b[0m \u001b[31m6.0 MB/s\u001b[0m eta \u001b[36m0:00:00\u001b[0m\n",
            "\u001b[?25hInstalling collected packages: anthropic\n",
            "Successfully installed anthropic-0.40.0\n"
          ]
        }
      ]
    },
    {
      "cell_type": "markdown",
      "source": [
        "<img src=\"https://github.com/mich1803/Codenames-LLM/raw/main/media/codenames_banner.jpg\" width=100%>"
      ],
      "metadata": {
        "id": "ciysGwR6JC8g"
      }
    },
    {
      "cell_type": "code",
      "source": [
        "#@title PLAY GAME\n",
        "#@markdown Enter paremeters:\n",
        "\n",
        "#@markdown ---\n",
        "#@markdown ## GENERAL\n",
        "language = \"english\" #@param [\"english\"]\n",
        "if language == \"english\":\n",
        "  language = 'eng'\n",
        "number_of_cards = 25 #@param {type:\"slider\", min:10, max:30, step:1}\n",
        "number_of_coloured_cards = 7 #@param {type:\"slider\", min:2, max:10, step:1}\n",
        "number_of_killer_cards = 1 #@param {type:\"slider\", min:0, max:10, step:1}\n",
        "verbose = True # @param {type:\"boolean\"}\n",
        "master_verbose = False # @param {type:\"boolean\"}\n",
        "#@markdown ---\n",
        "#@markdown ## RED TEAM\n",
        "red_master_model = \"gpt-4o-mini\" # @param [\"gpt-4o-mini\", \"gpt-4o\", \"gpt-3.5-turbo\", \"grok-beta\", \"claude-3-5-sonnet-latest\", \"claude-3-5-haiku-latest\", \"llama3.2-11b-vision\", \"llama3.2-90b-vision\", \"gemini-1.5-flash-latest\", \"gemini-1.5-pro-latest\"]\n",
        "red_guesser_model = \"same as master\" #@param [\"same as master\",\"gpt-4o-mini\", \"gpt-4o\", \"gpt-3.5-turbo\", \"grok-beta\", \"claude-3-5-sonnet-latest\", \"claude-3-5-haiku-latest\", \"llama3.2-11b-vision\", \"llama3.2-90b-vision\", \"gemini-1.5-flash-latest\", \"gemini-1.5-pro-latest\"]\n",
        "if red_guesser_model == \"same as master\":\n",
        "  red_guesser_model = red_master_model\n",
        "red_master_chain_of_thought = True # @param {type:\"boolean\"}\n",
        "red_guesser_chain_of_thought = False # @param {type:\"boolean\"}\n",
        "number_of_red_agents = 3 #@param {type:\"slider\", min:1, max:5, step:1}\n",
        "#@markdown ---\n",
        "#@markdown ## BLUE TEAM\n",
        "blue_master_model = \"gpt-4o-mini\" # @param [\"gpt-4o-mini\", \"gpt-4o\", \"gpt-3.5-turbo\", \"grok-beta\", \"claude-3-5-sonnet-latest\", \"claude-3-5-haiku-latest\", \"llama3.2-11b-vision\", \"llama3.2-90b-vision\", \"gemini-1.5-flash-latest\", \"gemini-1.5-pro-latest\"]\n",
        "blue_guesser_model = \"same as master\" #@param [\"same as master\",\"gpt-4o-mini\", \"gpt-4o\", \"gpt-3.5-turbo\", \"grok-beta\", \"claude-3-5-sonnet-latest\", \"claude-3-5-haiku-latest\", \"llama3.2-11b-vision\", \"llama3.2-90b-vision\", \"gemini-1.5-flash-latest\", \"gemini-1.5-pro-latest\"]\n",
        "if blue_guesser_model == \"same as master\":\n",
        "  blue_guesser_model = blue_master_model\n",
        "blue_master_chain_of_thought = True # @param {type:\"boolean\"}\n",
        "blue_guesser_chain_of_thought = False # @param {type:\"boolean\"}\n",
        "number_of_blue_agents = 3 #@param {type:\"slider\", min:1, max:5, step:1}\n",
        "\n",
        "\n",
        "\n",
        "codenamesLLM.play_game(lang = language,\n",
        "                       n_cards = number_of_cards,\n",
        "                       k_cards = number_of_killer_cards,\n",
        "                       verbose = verbose,\n",
        "                       red_master_model = red_master_model,\n",
        "                       red_guesser_model = red_guesser_model,\n",
        "                       red_cot = red_master_chain_of_thought,\n",
        "                       red_cot_guesser = red_guesser_chain_of_thought,\n",
        "                       blue_master_model = blue_master_model,\n",
        "                       blue_guesser_model = blue_guesser_model,\n",
        "                       blue_cot = blue_master_chain_of_thought,\n",
        "                       blue_cot_guesser = blue_guesser_chain_of_thought,\n",
        "                       red_agents = number_of_red_agents,\n",
        "                       blue_agents = number_of_blue_agents,\n",
        "                       masterverbose = master_verbose)"
      ],
      "metadata": {
        "id": "CogIgvS4QkG2",
        "cellView": "form"
      },
      "execution_count": null,
      "outputs": []
    }
  ]
}