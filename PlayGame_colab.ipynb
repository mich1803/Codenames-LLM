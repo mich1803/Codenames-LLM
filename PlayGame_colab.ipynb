{
  "nbformat": 4,
  "nbformat_minor": 0,
  "metadata": {
    "colab": {
      "provenance": []
    },
    "kernelspec": {
      "name": "python3",
      "display_name": "Python 3"
    },
    "language_info": {
      "name": "python"
    }
  },
  "cells": [
    {
      "cell_type": "code",
      "source": [
        "!wget https://raw.githubusercontent.com/mich1803/Codenames-LLM/main/codenamesLLM.py\n",
        "!pip install python-dotenv\n",
        "!pip install openai\n",
        "!pip install anthropic\n",
        "!pip install -q -U google-generativeai\n",
        "import codenamesLLM\n",
        "from tqdm import tqdm\n",
        "#UPLOAD THE .env FILE WITH THE KEYS"
      ],
      "metadata": {
        "id": "rPHiOELyJti7"
      },
      "execution_count": null,
      "outputs": []
    },
    {
      "cell_type": "markdown",
      "source": [
        "<img src=\"https://github.com/mich1803/Codenames-LLM/raw/main/media/codenames_banner.jpg\" width=100%>"
      ],
      "metadata": {
        "id": "ciysGwR6JC8g"
      }
    },
    {
      "cell_type": "code",
      "source": [
        "#@title PLAY GAME\n",
        "#@markdown Enter paremeters:\n",
        "\n",
        "#@markdown ---\n",
        "#@markdown ## GENERAL\n",
        "language = \"english\" #@param [\"english\"]\n",
        "if language == \"english\":\n",
        "  language = 'eng'\n",
        "number_of_cards = 25 #@param {type:\"slider\", min:10, max:30, step:1}\n",
        "number_of_coloured_cards = 7 #@param {type:\"slider\", min:2, max:10, step:1}\n",
        "number_of_killer_cards = 1 #@param {type:\"slider\", min:0, max:10, step:1}\n",
        "verbose = True # @param {type:\"boolean\"}\n",
        "master_verbose = False # @param {type:\"boolean\"}\n",
        "#@markdown ---\n",
        "#@markdown ## RED TEAM\n",
        "red_master_model = \"gpt-4o-mini\" # @param [\"human\",\"gpt-4o-mini\", \"gpt-4o\", \"gpt-3.5-turbo\", \"grok-beta\", \"claude-3-5-sonnet-latest\", \"claude-3-5-haiku-latest\", \"llama3.2-11b-vision\", \"llama3.2-90b-vision\", \"gemini-1.5-flash-latest\", \"gemini-1.5-pro-latest\"]\n",
        "red_guesser_model = \"same as master\" #@param [\"human\",\"same as master\",\"gpt-4o-mini\", \"gpt-4o\", \"gpt-3.5-turbo\", \"grok-beta\", \"claude-3-5-sonnet-latest\", \"claude-3-5-haiku-latest\", \"llama3.2-11b-vision\", \"llama3.2-90b-vision\", \"gemini-1.5-flash-latest\", \"gemini-1.5-pro-latest\"]\n",
        "if red_guesser_model == \"same as master\":\n",
        "  red_guesser_model = red_master_model\n",
        "red_master_chain_of_thought = True # @param {type:\"boolean\"}\n",
        "red_guesser_chain_of_thought = False # @param {type:\"boolean\"}\n",
        "number_of_red_guessers = 3 #@param {type:\"slider\", min:1, max:5, step:1}\n",
        "#@markdown ---\n",
        "#@markdown ## BLUE TEAM\n",
        "blue_master_model = \"gpt-4o-mini\" # @param [\"human\",\"gpt-4o-mini\", \"gpt-4o\", \"gpt-3.5-turbo\", \"grok-beta\", \"claude-3-5-sonnet-latest\", \"claude-3-5-haiku-latest\", \"llama3.2-11b-vision\", \"llama3.2-90b-vision\", \"gemini-1.5-flash-latest\", \"gemini-1.5-pro-latest\"]\n",
        "blue_guesser_model = \"same as master\" #@param [\"human\",\"same as master\",\"gpt-4o-mini\", \"gpt-4o\", \"gpt-3.5-turbo\", \"grok-beta\", \"claude-3-5-sonnet-latest\", \"claude-3-5-haiku-latest\", \"llama3.2-11b-vision\", \"llama3.2-90b-vision\", \"gemini-1.5-flash-latest\", \"gemini-1.5-pro-latest\"]\n",
        "if blue_guesser_model == \"same as master\":\n",
        "  blue_guesser_model = blue_master_model\n",
        "blue_master_chain_of_thought = True # @param {type:\"boolean\"}\n",
        "blue_guesser_chain_of_thought = False # @param {type:\"boolean\"}\n",
        "number_of_blue_guessers = 3 #@param {type:\"slider\", min:1, max:5, step:1}\n",
        "\n",
        "\n",
        "codenamesLLM.play_game(lang = language,\n",
        "                       n_cards = number_of_cards,\n",
        "                       coloured_cards = number_of_coloured_cards,\n",
        "                       k_cards = number_of_killer_cards,\n",
        "                       verbose = verbose,\n",
        "                       red_master_model = red_master_model,\n",
        "                       red_guesser_model = red_guesser_model,\n",
        "                       red_cot = red_master_chain_of_thought,\n",
        "                       red_cot_guesser = red_guesser_chain_of_thought,\n",
        "                       blue_master_model = blue_master_model,\n",
        "                       blue_guesser_model = blue_guesser_model,\n",
        "                       blue_cot = blue_master_chain_of_thought,\n",
        "                       blue_cot_guesser = blue_guesser_chain_of_thought,\n",
        "                       red_agents = number_of_red_guessers,\n",
        "                       blue_agents = number_of_blue_guessers,\n",
        "                       masterverbose = master_verbose)"
      ],
      "metadata": {
        "id": "CogIgvS4QkG2",
        "cellView": "form"
      },
      "execution_count": null,
      "outputs": []
    }
  ]
}