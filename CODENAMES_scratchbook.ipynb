{
  "nbformat": 4,
  "nbformat_minor": 0,
  "metadata": {
    "colab": {
      "provenance": []
    },
    "kernelspec": {
      "name": "python3",
      "display_name": "Python 3"
    },
    "language_info": {
      "name": "python"
    }
  },
  "cells": [
    {
      "cell_type": "code",
      "source": [
        "import requests\n",
        "import random\n",
        "import re"
      ],
      "metadata": {
        "id": "xPvIvieKKNCl"
      },
      "execution_count": 40,
      "outputs": []
    },
    {
      "cell_type": "code",
      "source": [
        "#@title board utils\n",
        "from os import kill\n",
        "def generate_board(n = 25, lang = \"eng\", c = 5, k = 1):\n",
        "  '''\n",
        "  inputs:\n",
        "    n (int): number of words\n",
        "    lang (str): language of dictionary (must be on the github folder)\n",
        "    c (int): number of colored words for each team\n",
        "    k (int): number of killer words\n",
        "\n",
        "  returns a dictionary such that dict[word] = color\n",
        "  '''\n",
        "\n",
        "  url = f\"https://raw.githubusercontent.com/mich1803/Codenames-LLM/main/wordlists/{lang}.txt\"\n",
        "\n",
        "  try:\n",
        "    # Fetch the content of the file\n",
        "    response = requests.get(url)\n",
        "  except:\n",
        "    raise Exception(\"ERROR: The language entered is wrong or has no dictionary in the github folder\")\n",
        "  words = response.text.splitlines()\n",
        "\n",
        "  # Select n unique random words\n",
        "  random_words = random.sample(words, n)\n",
        "\n",
        "  # Select indices for the colors\n",
        "  indices = list(range(n))\n",
        "  blue_indices = random.sample(indices, c)\n",
        "  remaining_indices = [i for i in indices if i not in blue_indices]\n",
        "  red_indices = random.sample(remaining_indices, c)\n",
        "  remaining_indices = [i for i in remaining_indices if i not in red_indices]\n",
        "  black_index = random.sample(remaining_indices, k)\n",
        "\n",
        "  if lang == \"eng\":\n",
        "    colors = [\n",
        "      \"blue\" if i in blue_indices else\n",
        "      \"red\" if i in red_indices else\n",
        "      \"killer\" if i in black_index else\n",
        "      \"neutral\"\n",
        "      for i in range(25)\n",
        "      ]\n",
        "  elif lang == \"ita\":\n",
        "    colors = [\n",
        "      \"blu\" if i in blue_indices else\n",
        "      \"rosso\" if i in red_indices else\n",
        "      \"assassino\" if i in black_index else\n",
        "      \"neutrale\"\n",
        "      for i in range(25)\n",
        "      ]\n",
        "\n",
        "  # Create a dictionary with list comprehension\n",
        "  word_color_dict = {random_words[i]: colors[i] for i in range(25)}\n",
        "  return word_color_dict\n",
        "\n",
        "def board4prompt(word_color_dict, lang = \"eng\", master = False):\n",
        "  '''\n",
        "  inputs:\n",
        "    word_color_dict(dict): board dict generated from generate_board()\n",
        "    lang (str): language of prompt\n",
        "\n",
        "  return a string version for the prompt for LLMs\n",
        "  '''\n",
        "\n",
        "  if lang == \"eng\":\n",
        "    init = \"The actual word board is: \\n\"\n",
        "  elif lang == \"ita\":\n",
        "    init = \"La board al momento è: \\n\"\n",
        "  else: raise Exception(\"ERROR: The language entered is wrong or has no dictionary in the github folder\")\n",
        "\n",
        "  if master:\n",
        "    return init + (\" | \". join([f\"{i} ({word_color_dict[i]})\" for i in word_color_dict])) + \"\\n\"\n",
        "  else:\n",
        "    return init + (\" | \".join(word_color_dict)) + \"\\n\""
      ],
      "metadata": {
        "id": "3ImwOHmlJuXN"
      },
      "execution_count": 36,
      "outputs": []
    },
    {
      "cell_type": "code",
      "source": [
        "board = generate_board(lang = \"ita\")\n",
        "board_prompt = board4prompt(board, lang=\"ita\", master = True)\n",
        "print(board_prompt)"
      ],
      "metadata": {
        "colab": {
          "base_uri": "https://localhost:8080/"
        },
        "id": "UnCkdi0nRhxz",
        "outputId": "91602989-05dd-4eb5-a0c4-7ae96f70411a"
      },
      "execution_count": 39,
      "outputs": [
        {
          "output_type": "stream",
          "name": "stdout",
          "text": [
            "La board al momento è: \n",
            "PERSONAGGIO (neutrale) | MOGLIE (blu) | FERRO (rosso) | MADRE (neutrale) | RISPOSTA (rosso) | FAMIGLIA (rosso) | OMBRA (neutrale) | PALAZZO (neutrale) | MASSA (neutrale) | MOVIMENTO (neutrale) | CRISI (neutrale) | LUNA (blu) | FOGLIA (neutrale) | PIACERE (neutrale) | ISOLA (neutrale) | CAFFÈ (neutrale) | PELLE (neutrale) | PADRE (rosso) | VOLTO (blu) | PASSO (blu) | FORZA (blu) | CUORE (assassino) | ORECCHIO (neutrale) | AMORE (rosso) | COLPO (neutrale)\n",
            "\n"
          ]
        }
      ]
    },
    {
      "cell_type": "markdown",
      "source": [
        "cose da implementare ancora per la gestione del gioco:\n",
        "*   funzione per leggere il prompt di indizio del master LLM (magari chiedere all'LLM di scrivere la risposta in un modo particolare nel prompt, esempio: dai l'indizio di una parola e un numero nel formato {[(parola)(numero)]})\n",
        "*   funzione per leggere il prompt di risposta dell'indovino LLM\n",
        "*   funzione per la partita: finisce se una squadra prende tutte le sue carte o se la carta killer viene scoperta, la partita restituisce: una tupla (vincitore, metodo di vittoria, round)\n",
        "*   fare le statistiche su quale metodo di vittoria è più frequente, in quanti round finisce mediamente la partita, confrontarli tra LLM, lingue, numero di carte ecc.\n",
        "\n"
      ],
      "metadata": {
        "id": "94HdENI_TEa9"
      }
    },
    {
      "cell_type": "code",
      "source": [
        "#@title prompts\n",
        "\n",
        "START_master_1 = {\"ita\": \"Stiamo giocando al gioco da tavola NOMI IN CODICE, il tuo ruolo sarà quello del master. \\n\",\n",
        "                  \"eng\": \"We are playing CODENAMES, you are going to be the master.\"}\n",
        "\n",
        "START_master_2 = {\"ita\": \"I tuoi compagni di squadra non vedranno il colore delle parole, tu devi fornirgli: \\n Un indizio di una parola per fargli indovinare le parole del colore della tua squadra, \\n Un numero intero che rappresenta quante parole sono in relazione con l'indizio che hai appena dato. \\n ATTENZIONE: se la tua squadra nomina la parola assassina perde all'istante. \\n\",\n",
        "                  \"eng\": \"Your teammates will not see the color of the words, you must provide them with: \\n A one-word clue to help them guess the words of your team's color, \\n An integer that represents how many words are related to the clue you just gave. BEWARE: if your team says the killer word you lose instantly\\n\"}\n",
        "\n",
        "team4prompt = {('eng','r'): \"You are on the RED team. \\n\",\n",
        "               ('eng','b'): \"You are on the BLUE team. \\n\",\n",
        "               ('ita', 'r'): \"Fai parte della squadra ROSSA. \\n\",\n",
        "               ('ita', 'b'): \"Fai parte della squadra BLU. \\n\"}\n",
        "\n",
        "FORMAT_master = {\"ita\": \"Scrivi la tua risposta nel formato: {(inidizio di una parola),(numero)}\",\n",
        "                  \"eng\": \"Write your answer in the format: {(one-word clue),(number)}\"}\n",
        "\n",
        "#IL PROMPT INIZIALE DEL MASTER SARA': START_master_1 + master_board + START_master_2 + team4prompt + FORMAT_master\n",
        "\n",
        "START_guesser = {\"ita\": \"Stiamo giocando al gioco da tavola NOMI IN CODICE, il tuo ruolo sarà quello del guesser. Date le parole sulla board e all'indizio del tuo master devi cercare di indovinare le parole della tua squadra. Se indovini e il tuo master ha dato un numero maggiore di uno puoi fare un altro tentativo.\\n\",\n",
        "                 \"eng\": \"We are playing the board game CODENAMES, and your role will be that of the guesser. Given the words on the board and the clue from your spymaster, you must try to guess your team's words. If you guess correctly and your spymaster has given a number greater than one, you can make another attempt.\\n\"}\n",
        "\n",
        "FORMAT_guesser = {\"ita\": \"Scrivi la tua risposta nel formato: {risposta }\",\n",
        "                  \"eng\": \"Write your answer in the format: {one-word guess}\"}\n",
        "\n",
        "MtoG_clue = {\n",
        "    \"ita\": \"Il tuo master ha dato l'indizio: \",\n",
        "    \"eng\": \"The master gave the clue: \"\n",
        "}\n",
        "\n",
        "MtoG_number = {\n",
        "    \"ita\": \" è il numero. \\n\",\n",
        "    \"eng\": \" is the number. \\n\"\n",
        "}\n",
        "\n"
      ],
      "metadata": {
        "id": "-7P4PA0wV7Nf"
      },
      "execution_count": 38,
      "outputs": []
    },
    {
      "cell_type": "code",
      "source": [
        "#@title text-handling utils\n",
        "def read_clue(answer):\n",
        "  # Regular expression to match the format \"{(one-word clue),(number)}\"\n",
        "    match = re.search(r\"\\{\\((\\w+)\\),\\((\\d+)\\)\\}\", answer)\n",
        "    if match:\n",
        "        clue = match.group(1)\n",
        "        number = int(match.group(2))\n",
        "        return (clue, number)\n",
        "    else:\n",
        "        raise ValueError(\"The response format is incorrect\")\n",
        "\n",
        "def read_guess(answer):\n",
        "    # Regular expression to match the format \"{(one_word guess)}\"\n",
        "    match = re.search(r\"\\{\\((\\w+)\\)\\}\", answer)\n",
        "    if match:\n",
        "        clue = match.group(1)\n",
        "        return clue\n",
        "    else:\n",
        "        raise ValueError(\"The response format is incorrect\")"
      ],
      "metadata": {
        "id": "2SR-K8sDl-cA"
      },
      "execution_count": 44,
      "outputs": []
    },
    {
      "cell_type": "code",
      "source": [
        "def play_game_GPT(lang, n, c, k, verbose = False):\n",
        "\n",
        "  r = 0\n",
        "  turn =  random.choice([\"r\", \"b\"])\n",
        "  game = True\n",
        "  board = generate_board(n, lang, c, k)\n",
        "  red_points = 0\n",
        "  blue_point = 0\n",
        "\n",
        "  while game:\n",
        "    if verbose: print(f\" --- ROUND {r} ---\")\n",
        "\n",
        "    if r == 0: #fare un controllo sul numero di round per squadra\n",
        "\n",
        "        #MASTER FIRST TEAM\n",
        "      #API -> apri conversazione con GPT master 1\n",
        "      prompt_master_1 = START_master_1[lang] + board4prompt(board, lang, master = True) + START_master_2[lang] + team4prompt[(lang,turn)] + FORMAT_master[lang]\n",
        "      if verbose: print(f\"NARRATOR to MASTER({turn}): {prompt_master_1}\")\n",
        "      master_answer_1 = \"\" ### da GPT\n",
        "      if verbose: print(f\"MASTER({turn}): {master_answer_1}\")\n",
        "      try:\n",
        "        clue_1, n_1 = read_clue(master_answer_1)\n",
        "      except:\n",
        "        if verbose: print(\"!!! ERROR (Incorrect format of answer)\")\n",
        "        w = \"b\" if turn == \"r\" else \"r\"\n",
        "        return (w, \"format\", r)\n",
        "\n",
        "        #GUESSER FIRST TEAM\n",
        "      #API -> apri conversazione con GPT guesser 1\n",
        "      prompt_guesser_1 = START_guesser[lang] + board4prompt(board, lang) + team4prompt[((lang,turn))] + MtoG_clue[lang] + clue_1 + \", \" + MtoG_number[lang] + FORMAT_guesser[lang]\n",
        "      if verbose: print(f\"NARRATOR to GUESSER({turn}): {prompt_guesser_1}\")\n",
        "      guesser_answer_1 = \"\" ### da GPT\n",
        "      if verbose: print(f\"GUESSER({turn}): {guesser_answer_1}\")\n",
        "      try:\n",
        "        guess = read_guess(guesser_answer_1).upper()\n",
        "      except:\n",
        "        if verbose: print(\"!!! ERROR (Incorrect format of answer)\")\n",
        "        w = \"b\" if turn == \"r\" else \"r\"\n",
        "        return (w, \"format\", r)\n",
        "\n",
        "        #EVALUATE GUESS\n",
        "      try:\n",
        "        x = board[guess]\n",
        "      except: # la guess non è nella board\n",
        "        if verbose: print(\"!!! ERROR (Guess non in board)\")\n",
        "        w = \"b\" if turn == \"r\" else \"r\"\n",
        "        return (w, \"format\", r)\n",
        "      if x == \"killer\": # la guess è la killer\n",
        "        if verbose: print(f\"NARRATOR: The killer word have been selected, the game ends.\")\n",
        "        w = \"b\" if turn == \"r\" else \"r\"\n",
        "        return (w, \"killer\", r)\n",
        "      elif x == \"blue\": # la guess è blue\n",
        "        blue_points += 1\n",
        "        if verbose: print(f\"NARRATOR: A blue word have been selected (blue score = {blue_points}).\")\n",
        "        del board[guess]\n",
        "        if blue_points == c:\n",
        "          if verbose: print(f\"NARRATOR: The blue team reached the goal, the game ends.\")\n",
        "          return (\"b\", \"win\", r)\n",
        "      elif x == \"red\": # la guess è red\n",
        "        red_points += 1\n",
        "        if verbose: print(f\"NARRATOR: A red word have been selected (red score = {red_points}).\")\n",
        "        del board[guess]\n",
        "        if red_points == c:\n",
        "          if verbose: print(f\"NARRATOR: The red team reached the goal, the game ends.\")\n",
        "          return (\"r\", \"win\", r)\n",
        "      else: #la guess è neutrale\n",
        "        if verbose: print(f\"NARRATOR: A neutral word have been selected.\")\n",
        "\n",
        "        ## MASTER AND GUESSER of the other team\n",
        "      #vedere come gestire gli altri\n",
        "\n"
      ],
      "metadata": {
        "id": "jALe_Q0OhLsA"
      },
      "execution_count": null,
      "outputs": []
    }
  ]
}