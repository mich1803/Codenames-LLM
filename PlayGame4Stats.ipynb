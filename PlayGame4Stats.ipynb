{
 "cells": [
  {
   "cell_type": "code",
   "execution_count": 5,
   "metadata": {},
   "outputs": [],
   "source": [
    "import codenamesLLM\n",
    "import pandas as pd\n",
    "import openpyxl\n",
    "from tqdm import tqdm"
   ]
  },
  {
   "cell_type": "code",
   "execution_count": null,
   "metadata": {},
   "outputs": [
    {
     "name": "stderr",
     "output_type": "stream",
     "text": [
      "  0%|          | 0/110 [00:00<?, ?it/s]"
     ]
    },
    {
     "name": "stdout",
     "output_type": "stream",
     "text": [
      "Executed gpt-4o vs gpt-4o-mini\n",
      "Playing gpt-4o vs gpt-3.5-turbo...\n"
     ]
    }
   ],
   "source": [
    "# Path to your Excel file\n",
    "file_path = \"experiment_data\\model_tournament\\model_tournament_input.xlsx\"\n",
    "output_file = r'C:\\Users\\miche\\OneDrive\\Desktop\\Codenames Progetto PDE\\EXPERIMENTS\\experiment1mich01122024.xlsx' #change dir\n",
    "\n",
    "# Read the Excel file into a DataFrame\n",
    "df = pd.read_excel(file_path)\n",
    "\n",
    "# Iterate through the rows using titled columns\n",
    "for index, row in tqdm(df.iterrows(), total=110):\n",
    "    # Access values using column titles\n",
    "    red_team = row['red_model']  # Replace with the actual column title for the red team\n",
    "    blue_team = row['blue_model']  # Replace with the actual column title for the blue team\n",
    "    \n",
    "    if (pd.notna(red_team) and pd.notna(blue_team)) and not(pd.notna(row[\"winner\"])):  # Check if both values are not NaN\n",
    "        print(f\"Playing {red_team} vs {blue_team}...\")\n",
    "        # Call your function and get the result\n",
    "        result = codenamesLLM.play_game(red_model = red_team, blue_model = blue_team)\n",
    "\n",
    "        red_stats = codenamesLLM.analyze_team_guesses(result[3], \"RED\")\n",
    "        blue_stats = codenamesLLM.analyze_team_guesses(result[3], \"BLUE\")\n",
    "\n",
    "        df.at[index, 'red_model'] = red_team\n",
    "        df.at[index, 'red_model'] = red_team\n",
    "        df.at[index, 'winner'] = result[0]  \n",
    "        df.at[index, 'red_avg_words_2guess'] = red_stats['average_expected_guesses']\n",
    "        df.at[index, 'blue_avg_words_2guess'] = blue_stats['average_expected_guesses']\n",
    "        df.at[index, 'red_avg_words_guessed'] = red_stats['average_correct_guesses']\n",
    "        df.at[index, 'blue_avg_words_guessed'] = blue_stats['average_correct_guesses']\n",
    "        df.at[index, 'reason'] = result[1]\n",
    "        df.at[index, 'red_turns'] = red_stats['total_hints']\n",
    "        df.at[index, 'blue_turns'] = blue_stats['total_hints']\n",
    "\n",
    "    # Write the updated DataFrame back to the same Excel file\n",
    "    df.to_excel(output_file, index=False)\n",
    "    print(f\"Executed {red_team} vs {blue_team}\")\n"
   ]
  }
 ],
 "metadata": {
  "kernelspec": {
   "display_name": "codenames_env",
   "language": "python",
   "name": "python3"
  },
  "language_info": {
   "codemirror_mode": {
    "name": "ipython",
    "version": 3
   },
   "file_extension": ".py",
   "mimetype": "text/x-python",
   "name": "python",
   "nbconvert_exporter": "python",
   "pygments_lexer": "ipython3",
   "version": "3.11.9"
  }
 },
 "nbformat": 4,
 "nbformat_minor": 2
}
