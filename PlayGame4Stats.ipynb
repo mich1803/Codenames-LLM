{
 "cells": [
  {
   "cell_type": "code",
   "execution_count": 4,
   "metadata": {},
   "outputs": [
    {
     "name": "stderr",
     "output_type": "stream",
     "text": [
      "c:\\Users\\miche\\OneDrive\\Desktop\\Codenames Progetto PDE\\Codenames-LLM\\codenames_env\\Lib\\site-packages\\tqdm\\auto.py:21: TqdmWarning: IProgress not found. Please update jupyter and ipywidgets. See https://ipywidgets.readthedocs.io/en/stable/user_install.html\n",
      "  from .autonotebook import tqdm as notebook_tqdm\n"
     ]
    }
   ],
   "source": [
    "import codenamesLLM\n",
    "import pandas as pd\n",
    "import openpyxl\n",
    "from tqdm import tqdm"
   ]
  },
  {
   "cell_type": "code",
   "execution_count": 6,
   "metadata": {},
   "outputs": [
    {
     "name": "stderr",
     "output_type": "stream",
     "text": [
      "100%|██████████| 90/90 [00:03<00:00, 23.20it/s]\n"
     ]
    }
   ],
   "source": [
    "# Path to your Excel file\n",
    "file_path = \"experiment_data\\model_tournament\\model_tournament_mich1.xlsx\" #compy the model_tournament_input to use one new\n",
    "\n",
    "# Read the Excel file into a DataFrame\n",
    "df = pd.read_excel(file_path)\n",
    "\n",
    "# Iterate through the rows using titled columns\n",
    "for index, row in tqdm(df.iterrows(), total=len(df)):\n",
    "    # Access values using column titles\n",
    "    red_team = row['red_model']  # Replace with the actual column title for the red team\n",
    "    blue_team = row['blue_model']  # Replace with the actual column title for the blue team\n",
    "    playable = True\n",
    "\n",
    "    already_played = pd.notna(row['winner'])\n",
    "    \n",
    "    if ((pd.notna(red_team) and pd.notna(blue_team)) and not(already_played)):  # Check if both values are not NaN\n",
    "        try:\n",
    "            print(f\"Playing {red_team} vs {blue_team}...\")\n",
    "            # Call your function and get the result\n",
    "            result = codenamesLLM.play_game(red_model = red_team, blue_model = blue_team)\n",
    "            print(result)\n",
    "            red_stats = codenamesLLM.analyze_team_guesses(result[3], \"RED\")\n",
    "            blue_stats = codenamesLLM.analyze_team_guesses(result[3], \"BLUE\")\n",
    "\n",
    "            df.at[index, 'red_model'] = red_team\n",
    "            df.at[index, 'red_model'] = red_team\n",
    "            df.at[index, 'winner'] = result[0]  \n",
    "            df.at[index, 'red_avg_words_2guess'] = red_stats['average_expected_guesses']\n",
    "            df.at[index, 'blue_avg_words_2guess'] = blue_stats['average_expected_guesses']\n",
    "            df.at[index, 'red_avg_words_guessed'] = red_stats['average_correct_guesses']\n",
    "            df.at[index, 'blue_avg_words_guessed'] = blue_stats['average_correct_guesses']\n",
    "            df.at[index, 'reason'] = result[1]\n",
    "            df.at[index, 'red_turns'] = red_stats['total_hints']\n",
    "            df.at[index, 'blue_turns'] = blue_stats['total_hints']\n",
    "            df.at[index, 'red_cib'] = result[4]\n",
    "            df.at[index, 'blue_cib'] = result[5]\n",
    "\n",
    "        except Exception as e:\n",
    "            print(f\"skipped game between {red_team} and {blue_team}: {e}\")\n",
    "\n",
    "    # Write the updated DataFrame back to the same Excel file\n",
    "    df.to_excel(file_path, index=False)\n",
    "    if not already_played:\n",
    "        print(f\"Executed {red_team} vs {blue_team}\")\n"
   ]
  },
  {
   "cell_type": "code",
   "execution_count": null,
   "metadata": {},
   "outputs": [],
   "source": [
    "def generate_model_statistics(input_file, output_file):\n",
    "    # Load the data\n",
    "    df = pd.ExcelFile(input_file).parse(0)  # Assumes the data is in the first sheet\n",
    "\n",
    "    # Unique models\n",
    "    models = pd.concat([df['red_model'], df['blue_model']]).unique()\n",
    "\n",
    "    # Prepare the statistics dictionary\n",
    "    stats = {\n",
    "        'model_name': [],\n",
    "        'games_played': [],\n",
    "        'wins': [],\n",
    "        'wins_as_red': [],\n",
    "        'wins_as_blue': [],\n",
    "        'wins_by_cards_finished': [],\n",
    "        'wins_by_killer_word': [],\n",
    "        'killer_word_losses': [],\n",
    "        'avg_words_to_guess': [],\n",
    "        'avg_words_guessed': [],\n",
    "        'avg_rounds': [],\n",
    "        'avg_rounds_when_cards_finished': [],\n",
    "        'avg_words_to_guess_when_win': [],\n",
    "        'avg_words_to_guess_when_lose': [],\n",
    "        'avg_words_guessed_when_win': [],\n",
    "        'avg_words_guessed_when_lose': [],\n",
    "    }\n",
    "\n",
    "    for model in models:\n",
    "        # Filter games where the model is playing\n",
    "        red_games = df[df['red_model'] == model]\n",
    "        blue_games = df[df['blue_model'] == model]\n",
    "        all_games = pd.concat([red_games, blue_games])\n",
    "\n",
    "        # Wins\n",
    "        wins_as_red = (red_games['winner'] == 'RED').sum()\n",
    "        wins_as_blue = (blue_games['winner'] == 'BLUE').sum()\n",
    "        total_wins = wins_as_red + wins_as_blue\n",
    "\n",
    "        # Losses and reasons\n",
    "        killer_word_losses = all_games[(all_games['reason'] == 'killer word selected') & \n",
    "                                       ((all_games['red_model'] == model) & (all_games['winner'] == 'BLUE') |\n",
    "                                        (all_games['blue_model'] == model) & (all_games['winner'] == 'RED'))].shape[0]\n",
    "\n",
    "        # Wins by reason\n",
    "        wins_by_cards_finished = all_games[(all_games['reason'] == 'cards finished') & \n",
    "                                            ((all_games['red_model'] == model) & (all_games['winner'] == 'RED') |\n",
    "                                             (all_games['blue_model'] == model) & (all_games['winner'] == 'BLUE'))].shape[0]\n",
    "        wins_by_killer_word = total_wins - wins_by_cards_finished\n",
    "\n",
    "        # Games played\n",
    "        games_played = all_games.shape[0]\n",
    "\n",
    "        # Average statistics\n",
    "        avg_words_to_guess = all_games[['red_avg_words_2guess', 'blue_avg_words_2guess']].mean().mean()\n",
    "        avg_words_guessed = all_games[['red_avg_words_guessed', 'blue_avg_words_guessed']].mean().mean()\n",
    "        avg_rounds = all_games[['red_turns', 'blue_turns']].mean().mean()\n",
    "        avg_rounds_when_cards_finished = all_games[all_games['reason'] == 'cards finished'][['red_turns', 'blue_turns']].mean().mean()\n",
    "\n",
    "        # Words to guess when win or lose\n",
    "        avg_words_to_guess_when_win = all_games[(all_games['winner'] == 'RED') & (all_games['red_model'] == model) |\n",
    "                                                (all_games['winner'] == 'BLUE') & (all_games['blue_model'] == model)][\n",
    "            ['red_avg_words_2guess', 'blue_avg_words_2guess']].mean().mean()\n",
    "        avg_words_to_guess_when_lose = all_games[(all_games['winner'] == 'BLUE') & (all_games['red_model'] == model) |\n",
    "                                                 (all_games['winner'] == 'RED') & (all_games['blue_model'] == model)][\n",
    "            ['red_avg_words_2guess', 'blue_avg_words_2guess']].mean().mean()\n",
    "\n",
    "        avg_words_guessed_when_win = all_games[(all_games['winner'] == 'RED') & (all_games['red_model'] == model) |\n",
    "                                               (all_games['winner'] == 'BLUE') & (all_games['blue_model'] == model)][\n",
    "            ['red_avg_words_guessed', 'blue_avg_words_guessed']].mean().mean()\n",
    "        avg_words_guessed_when_lose = all_games[(all_games['winner'] == 'BLUE') & (all_games['red_model'] == model) |\n",
    "                                                (all_games['winner'] == 'RED') & (all_games['blue_model'] == model)][\n",
    "            ['red_avg_words_guessed', 'blue_avg_words_guessed']].mean().mean()\n",
    "\n",
    "        # Append stats for the model\n",
    "        stats['model_name'].append(model)\n",
    "        stats['games_played'].append(games_played)\n",
    "        stats['wins'].append(total_wins)\n",
    "        stats['wins_as_red'].append(wins_as_red)\n",
    "        stats['wins_as_blue'].append(wins_as_blue)\n",
    "        stats['wins_by_cards_finished'].append(wins_by_cards_finished)\n",
    "        stats['wins_by_killer_word'].append(wins_by_killer_word)\n",
    "        stats['killer_word_losses'].append(killer_word_losses)\n",
    "        stats['avg_words_to_guess'].append(avg_words_to_guess)\n",
    "        stats['avg_words_guessed'].append(avg_words_guessed)\n",
    "        stats['avg_rounds'].append(avg_rounds)\n",
    "        stats['avg_rounds_when_cards_finished'].append(avg_rounds_when_cards_finished)\n",
    "        stats['avg_words_to_guess_when_win'].append(avg_words_to_guess_when_win)\n",
    "        stats['avg_words_to_guess_when_lose'].append(avg_words_to_guess_when_lose)\n",
    "        stats['avg_words_guessed_when_win'].append(avg_words_guessed_when_win)\n",
    "        stats['avg_words_guessed_when_lose'].append(avg_words_guessed_when_lose)\n",
    "\n",
    "    # Create a DataFrame from the stats dictionary\n",
    "    stats_df = pd.DataFrame(stats)\n",
    "\n",
    "    # Save the resulting DataFrame to an Excel file\n",
    "    stats_df.to_excel(output_file, index=False)\n",
    "    print(f\"Statistics saved to {output_file}\")"
   ]
  },
  {
   "cell_type": "code",
   "execution_count": 8,
   "metadata": {},
   "outputs": [
    {
     "name": "stdout",
     "output_type": "stream",
     "text": [
      "Statistics saved to experiment_data\\model_tournament\\model_tournament_stats_partial.xlsx\n"
     ]
    }
   ],
   "source": [
    "generate_model_statistics(\"experiment_data\\model_tournament\\model_tournament_mich1.xlsx\", \"experiment_data\\model_tournament\\model_tournament_stats_partial.xlsx\")"
   ]
  }
 ],
 "metadata": {
  "kernelspec": {
   "display_name": "codenames_env",
   "language": "python",
   "name": "python3"
  },
  "language_info": {
   "codemirror_mode": {
    "name": "ipython",
    "version": 3
   },
   "file_extension": ".py",
   "mimetype": "text/x-python",
   "name": "python",
   "nbconvert_exporter": "python",
   "pygments_lexer": "ipython3",
   "version": "3.11.9"
  }
 },
 "nbformat": 4,
 "nbformat_minor": 2
}
