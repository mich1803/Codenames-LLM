{
 "cells": [
  {
   "cell_type": "code",
   "execution_count": 1,
   "metadata": {},
   "outputs": [
    {
     "name": "stderr",
     "output_type": "stream",
     "text": [
      "c:\\Users\\miche\\OneDrive\\Desktop\\Codenames Progetto PDE\\Codenames-LLM\\codenames_env\\Lib\\site-packages\\tqdm\\auto.py:21: TqdmWarning: IProgress not found. Please update jupyter and ipywidgets. See https://ipywidgets.readthedocs.io/en/stable/user_install.html\n",
      "  from .autonotebook import tqdm as notebook_tqdm\n"
     ]
    }
   ],
   "source": [
    "import codenamesLLM\n",
    "import pandas as pd\n",
    "import openpyxl\n",
    "from tqdm import tqdm"
   ]
  },
  {
   "cell_type": "code",
   "execution_count": null,
   "metadata": {},
   "outputs": [
    {
     "name": "stderr",
     "output_type": "stream",
     "text": [
      " 17%|█▋        | 15/90 [00:00<00:01, 41.50it/s]"
     ]
    },
    {
     "name": "stdout",
     "output_type": "stream",
     "text": [
      "Playing gpt-3.5-turbo vs claude-3-5-haiku-latest...\n"
     ]
    },
    {
     "name": "stderr",
     "output_type": "stream",
     "text": [
      " 21%|██        | 19/90 [03:05<18:44, 15.84s/it]"
     ]
    },
    {
     "name": "stdout",
     "output_type": "stream",
     "text": [
      "('BLUE', 'killer word selected', 5, ['Team RED spymaster said: MAGIC (4).', 'Team RED said: WITCH. The word was RED.', 'Team RED said: GIANT. The word was RED.', 'Team RED said: SHADOW. The word was RED.', 'Team RED said: CARD. The word was BLUE.', 'Team BLUE spymaster said: EQUIPMENT (4).', 'Team BLUE said: BOW. The word was RED.', 'Team RED spymaster said: JUNGLE (1).', 'Team RED said: LION. The word was RED.', 'Team BLUE spymaster said: SHARP (3).', 'Team BLUE said: HOOK. The word was RED.', 'Team RED spymaster said: FIRE (1).', 'Team RED said: GOLD. The word was KILLER.'], 0, 0)\n",
      "Executed gpt-3.5-turbo vs claude-3-5-haiku-latest\n",
      "Playing gpt-3.5-turbo vs llama3.2-90b-vision...\n"
     ]
    },
    {
     "name": "stderr",
     "output_type": "stream",
     "text": [
      " 23%|██▎       | 21/90 [08:58<54:34, 47.46s/it]"
     ]
    },
    {
     "name": "stdout",
     "output_type": "stream",
     "text": [
      "('RED', 'killer word selected', 10, ['Team RED spymaster said: SUPERHERO (6).', 'Team RED said: ROBOT. The word was RED.', 'Team RED said: ANGEL. The word was neutral.', 'Team BLUE spymaster said: HOUSE (3).', 'Team BLUE said: WALL. The word was RED.', 'Team RED spymaster said: SUPER (6).', 'Team RED said: COMIC. The word was RED.', 'Team RED said: STAR. The word was neutral.', 'Team BLUE spymaster said: OBJECT (4).', 'Team BLUE said: BATTERY. The word was RED.', 'Team RED spymaster said: HILL (3).', 'Team RED said: MOUNT. The word was RED.', 'Team RED said: ROUND. The word was neutral.', 'Team BLUE spymaster said: VEHICLE (2).', 'Team BLUE said: LIMOUSINE. The word was BLUE.', 'Team BLUE said: RACKET. The word was BLUE.', 'Team RED spymaster said: AGREEMENT (3).', 'Team RED said: CONTRACT. The word was RED.', 'Team RED said: FILE. The word was neutral.', 'Team BLUE spymaster said: SECURE (3).', 'Team BLUE said: LOCK. The word was BLUE.', 'Team BLUE said: CHEST. The word was BLUE.', 'Team BLUE said: FENCE. The word was neutral.', 'Team RED spymaster said: MIND (2).', 'Team RED said: GENIUS. The word was RED.', 'Team RED said: WEB. The word was BLUE.', 'Team BLUE spymaster said: GREEN (2).', 'Team BLUE said: OLIVE. The word was BLUE.', 'Team BLUE said: PALM. The word was KILLER.'], 0, 0)\n",
      "Executed gpt-3.5-turbo vs llama3.2-90b-vision\n",
      "Playing grok-beta vs gpt-4o...\n"
     ]
    },
    {
     "name": "stderr",
     "output_type": "stream",
     "text": [
      " 24%|██▍       | 22/90 [16:38<1:51:27, 98.35s/it]"
     ]
    },
    {
     "name": "stdout",
     "output_type": "stream",
     "text": [
      "('RED', 'cards finished', 11, ['Team RED spymaster said: LUGGAGE (1).', 'Team RED said: TRUNK. The word was RED.', 'Team BLUE spymaster said: FINANCE (2).', 'Team BLUE said: CAPITAL. The word was BLUE.', 'Team BLUE said: MILLIONAIRE. The word was BLUE.', 'Team RED spymaster said: GAME (2).', 'Team RED said: ROULETTE. The word was RED.', 'Team RED said: DIAMOND. The word was neutral.', 'Team BLUE spymaster said: TRAVEL (2).', 'Team BLUE said: HIMALAYAS. The word was RED.', 'Team RED spymaster said: MACHINE (2).', 'Team RED said: CRANE. The word was RED.', 'Team RED said: BUG. The word was neutral.', 'Team BLUE spymaster said: ELEMENT (2).', 'Team BLUE said: MERCURY. The word was BLUE.', 'Team BLUE said: SNOW. The word was RED.', 'Team RED spymaster said: HEART (2).', 'Team RED said: CARD. The word was RED.', 'Team RED said: SPRING. The word was neutral.', 'Team BLUE spymaster said: CONTINENT (3).', 'Team BLUE said: ANTARCTICA. The word was BLUE.', 'Team BLUE said: INDIA. The word was BLUE.', 'Team BLUE said: ALPS. The word was neutral.', 'Team RED spymaster said: LIME (1).', 'Team RED said: LEMON. The word was RED.', 'Team BLUE spymaster said: TRIANGLE (2).', 'Team BLUE said: BERMUDA. The word was BLUE.', 'Team BLUE said: SCALE. The word was neutral.', 'Team RED spymaster said: GHOST (1).', 'Team RED said: DEATH. The word was RED.'], 0, 0)\n",
      "Executed grok-beta vs gpt-4o\n",
      "Playing grok-beta vs gpt-4o-mini...\n"
     ]
    },
    {
     "name": "stderr",
     "output_type": "stream",
     "text": [
      " 26%|██▌       | 23/90 [23:36<2:43:18, 146.25s/it]"
     ]
    },
    {
     "name": "stdout",
     "output_type": "stream",
     "text": [
      "('RED', 'cards finished', 11, ['Team RED spymaster said: EDUCATION (1).', 'Team RED said: SCHOOL. The word was RED.', 'Team BLUE spymaster said: STRATEGY (3).', 'Team BLUE said: GAME. The word was BLUE.', 'Team BLUE said: PILOT. The word was neutral.', 'Team RED spymaster said: OCEAN (2).', 'Team RED said: SHARK. The word was RED.', 'Team RED said: FISH. The word was RED.', 'Team BLUE spymaster said: ACTION (3).', 'Team BLUE said: PRESS. The word was BLUE.', 'Team BLUE said: ROBIN. The word was neutral.', 'Team RED spymaster said: MUSIC (1).', 'Team RED said: OPERA. The word was RED.', 'Team BLUE spymaster said: GAME (3).', 'Team BLUE said: ROULETTE. The word was BLUE.', 'Team BLUE said: BOARD. The word was neutral.', 'Team RED spymaster said: URBAN (1).', 'Team RED said: SKYSCRAPER. The word was RED.', 'Team BLUE spymaster said: STRUCTURE (3).', 'Team BLUE said: TEMPLE. The word was BLUE.', 'Team BLUE said: SCALE. The word was neutral.', 'Team RED spymaster said: BIRD (1).', 'Team RED said: HAWK. The word was RED.', 'Team BLUE spymaster said: FABLE (2).', 'Team BLUE said: CENTAUR. The word was BLUE.', 'Team BLUE said: SLUG. The word was RED.', 'Team RED spymaster said: FABRIC (1).', 'Team RED said: DRESS. The word was RED.'], 0, 0)\n",
      "Executed grok-beta vs gpt-4o-mini\n",
      "Playing grok-beta vs gpt-3.5-turbo...\n"
     ]
    },
    {
     "name": "stderr",
     "output_type": "stream",
     "text": [
      " 27%|██▋       | 24/90 [29:08<3:16:48, 178.92s/it]"
     ]
    },
    {
     "name": "stdout",
     "output_type": "stream",
     "text": [
      "('BLUE', 'cards finished', 10, ['Team RED spymaster said: PAPER (2).', 'Team RED said: NOTE. The word was RED.', 'Team RED said: PRESS. The word was neutral.', 'Team BLUE spymaster said: MUSIC (3).', 'Team BLUE said: PIANO. The word was BLUE.', 'Team BLUE said: CONCERT. The word was neutral.', 'Team RED spymaster said: COURT (2).', 'Team RED said: LAWYER. The word was RED.', 'Team RED said: WASHINGTON. The word was neutral.', 'Team BLUE spymaster said: UTENSIL (4).', 'Team BLUE said: FORK. The word was BLUE.', 'Team BLUE said: PLATE. The word was BLUE.', 'Team BLUE said: PAN. The word was RED.', 'Team RED spymaster said: EUROPE (1).', 'Team RED said: FRANCE. The word was RED.', 'Team BLUE spymaster said: FLOWER (2).', 'Team BLUE said: ROSE. The word was BLUE.', 'Team BLUE said: PALM. The word was BLUE.', 'Team RED spymaster said: SPORT (1).', 'Team RED said: CHARGE. The word was RED.', 'Team BLUE spymaster said: EXPLOSIVE (2).', 'Team BLUE said: BOMB. The word was BLUE.', 'Team BLUE said: BOMB. The word was not in board', 'Team RED spymaster said: PLAY (1).', 'Team RED said: GAME. The word was RED.', 'Team BLUE spymaster said: ELECTRIC (1).', 'Team BLUE said: SWITCH. The word was BLUE.'], 0, 0)\n",
      "Executed grok-beta vs gpt-3.5-turbo\n",
      "Playing claude-3-5-sonnet-latest vs gpt-4o...\n"
     ]
    },
    {
     "name": "stderr",
     "output_type": "stream",
     "text": [
      " 32%|███▏      | 29/90 [31:03<1:33:33, 92.02s/it] "
     ]
    },
    {
     "name": "stdout",
     "output_type": "stream",
     "text": [
      "skipped game between claude-3-5-sonnet-latest and gpt-4o: Error code: 500 - {'type': 'error', 'error': {'type': 'api_error', 'message': 'Internal server error'}}\n",
      "Executed claude-3-5-sonnet-latest vs gpt-4o\n",
      "Playing claude-3-5-sonnet-latest vs gpt-4o-mini...\n"
     ]
    },
    {
     "name": "stderr",
     "output_type": "stream",
     "text": [
      " 33%|███▎      | 30/90 [36:53<2:07:25, 127.42s/it]"
     ]
    },
    {
     "name": "stdout",
     "output_type": "stream",
     "text": [
      "('BLUE', 'cards finished', 8, ['Team RED spymaster said: MONEY (2).', 'Team RED said: BANK. The word was RED.', 'Team RED said: STOCK. The word was neutral.', 'Team BLUE spymaster said: ECOSYSTEM (3).', 'Team BLUE said: AMAZON. The word was BLUE.', 'Team BLUE said: LIFE. The word was BLUE.', 'Team BLUE said: GREEN. The word was RED.', 'Team RED spymaster said: SKY (3).', 'Team RED said: MOON. The word was RED.', 'Team RED said: LIGHT. The word was RED.', 'Team RED said: LINE. The word was neutral.', 'Team BLUE spymaster said: METAL (3).', 'Team BLUE said: COPPER. The word was BLUE.', 'Team BLUE said: ENGINE. The word was BLUE.', 'Team BLUE said: BRIDGE. The word was RED.', 'Team RED spymaster said: FLEXIBLE (2).', 'Team RED said: PLASTIC. The word was RED.', 'Team RED said: DROP. The word was RED.', 'Team BLUE spymaster said: KITCHEN (2).', 'Team BLUE said: PAN. The word was BLUE.', 'Team BLUE said: BEAT. The word was neutral.', 'Team RED spymaster said: JUSTICE (1).', 'Team RED said: BAR. The word was BLUE.', 'Team BLUE spymaster said: REGION (1).', 'Team BLUE said: STATE. The word was BLUE.'], 0, 0)\n",
      "Executed claude-3-5-sonnet-latest vs gpt-4o-mini\n",
      "Playing claude-3-5-sonnet-latest vs gpt-3.5-turbo...\n"
     ]
    },
    {
     "name": "stderr",
     "output_type": "stream",
     "text": [
      " 34%|███▍      | 31/90 [36:59<1:45:45, 107.54s/it]"
     ]
    },
    {
     "name": "stdout",
     "output_type": "stream",
     "text": [
      "Error parsing API response: closing parenthesis '}' does not match opening parenthesis '(' (<unknown>, line 1)\n",
      "Response content: {'thought': 'Let me analyze this carefully. First, I need to identify our team's RED words: SATURN, CENTAUR, SLIP, SOUND, COURT, BED, BALL, GAME. The KILLER word is COLD, which we must absolutely avoid. The BLUE words (opponent's) are: UNICORN, ATLANTIS, CHEST, SPINE, BEACH, SOCK, WEB. Looking at our RED words, I notice potential thematic connections. Several words relate to sports/activities: COURT, BALL, GAME. This could be a good group to target. However, I need to be careful as opponent has related words like \"WEB\". Another connection could be space-related with SATURN, but it's just one word. The safest approach would be to target the sports-related words first. The word \"PLAY\" could connect COURT, BALL, and GAME without risking connection to opponent's words or the killer word. Double-checking that \"PLAY\" is not on the board - confirmed safe.', 'clue': 'PLAY', 'number': 3}\n",
      "skipped game between claude-3-5-sonnet-latest and gpt-3.5-turbo: Format error: The API response is not a valid Python literal.\n",
      "Executed claude-3-5-sonnet-latest vs gpt-3.5-turbo\n",
      "Playing claude-3-5-haiku-latest vs gpt-4o...\n"
     ]
    },
    {
     "name": "stderr",
     "output_type": "stream",
     "text": [
      " 40%|████      | 36/90 [42:28<1:16:34, 85.08s/it] "
     ]
    },
    {
     "name": "stdout",
     "output_type": "stream",
     "text": [
      "('BLUE', 'killer word selected', 5, ['Team RED spymaster said: POWER (3).', 'Team RED said: LEAD. The word was RED.', 'Team RED said: PHOENIX. The word was RED.', 'Team RED said: LASER. The word was BLUE.', 'Team BLUE spymaster said: INTELLECT (2).', 'Team BLUE said: GENIUS. The word was BLUE.', 'Team BLUE said: PUPIL. The word was RED.', 'Team RED spymaster said: LOCATION (2).', 'Team RED said: MOSCOW. The word was RED.', 'Team RED said: BERLIN. The word was BLUE.', 'Team BLUE spymaster said: PUBLICATION (2).', 'Team BLUE said: COMIC. The word was BLUE.', 'Team BLUE said: CODE. The word was neutral.', 'Team RED spymaster said: PLACE (3).', 'Team RED said: THEATER. The word was KILLER.'], 0, 0)\n",
      "Executed claude-3-5-haiku-latest vs gpt-4o\n",
      "Playing claude-3-5-haiku-latest vs gpt-4o-mini...\n"
     ]
    },
    {
     "name": "stderr",
     "output_type": "stream",
     "text": [
      " 41%|████      | 37/90 [46:39<1:34:38, 107.15s/it]"
     ]
    },
    {
     "name": "stdout",
     "output_type": "stream",
     "text": [
      "('BLUE', 'killer word selected', 5, ['Team RED spymaster said: MOVEMENT (3).', 'Team RED said: MARCH. The word was RED.', 'Team RED said: AIR. The word was RED.', 'Team RED said: FIELD. The word was RED.', 'Team BLUE spymaster said: METAL (2).', 'Team BLUE said: COPPER. The word was BLUE.', 'Team BLUE said: BOND. The word was RED.', 'Team RED spymaster said: BODY (3).', 'Team RED said: BACK. The word was neutral.', 'Team BLUE spymaster said: CELESTIAL (2).', 'Team BLUE said: STAR. The word was BLUE.', 'Team BLUE said: SPACE. The word was BLUE.', 'Team RED spymaster said: STANCE (3).', 'Team RED said: ROCK. The word was KILLER.'], 0, 0)\n",
      "Executed claude-3-5-haiku-latest vs gpt-4o-mini\n",
      "Playing claude-3-5-haiku-latest vs gpt-3.5-turbo...\n"
     ]
    },
    {
     "name": "stderr",
     "output_type": "stream",
     "text": [
      " 42%|████▏     | 38/90 [47:16<1:23:10, 95.96s/it] "
     ]
    },
    {
     "name": "stdout",
     "output_type": "stream",
     "text": [
      "Error parsing API response: unexpected indent (<unknown>, line 2)\n",
      "Response content: \n",
      "\t{\n",
      "\t\t\"thought\": \"Looking at the current state of the board, I see that the words BACK, LEPRECHAUN, DISEASE, SPRING, CAT, and HOOK are all BLUE, and I need to give a clue related to them. I must avoid the words PYRAMID (KILLER), MASS, SHOT, DANCE, GAS, EMBASSY, DEATH, SCIENTIST, and BELT as they belong to the RED team and can potentially lead my team to guess the opponent's words. Additionally, I should steer clear of the neutral words like CLUB, AMERICA, HORN, FIGURE, TAG, CONTRACT, DECK, APPLE, and MAMMOTH. My clue should be distinct from all the words on the board, so I'll have to brainstorm for a word that relates to BACK, LEPRECHAUN, DISEASE, SPRING, CAT, and HOOK but doesn't directly match any of them.\",\n",
      "\t\t\"clue\": \"TAIL\",\n",
      "\t\t\"number\": 6\n",
      "\t}\n",
      "skipped game between claude-3-5-haiku-latest and gpt-3.5-turbo: Format error: The API response is not a valid Python literal.\n",
      "Executed claude-3-5-haiku-latest vs gpt-3.5-turbo\n",
      "Playing llama3.2-11b-vision vs gpt-4o...\n"
     ]
    },
    {
     "name": "stderr",
     "output_type": "stream",
     "text": [
      " 48%|████▊     | 43/90 [49:13<44:48, 57.21s/it]  "
     ]
    },
    {
     "name": "stdout",
     "output_type": "stream",
     "text": [
      "('BLUE', 'killer word selected', 3, ['Team RED spymaster said: SHAPE (3).', 'Team RED said: CIRCLE. The word was neutral.', 'Team BLUE spymaster said: NETWORK (2).', 'Team BLUE said: WEB. The word was BLUE.', 'Team BLUE said: SERVER. The word was neutral.', 'Team RED spymaster said: ORE (4).', 'Team RED said: LEAD. The word was RED.', 'Team RED said: MOUNT. The word was KILLER.'], 0, 0)\n",
      "Executed llama3.2-11b-vision vs gpt-4o\n",
      "Playing llama3.2-11b-vision vs gpt-4o-mini...\n"
     ]
    },
    {
     "name": "stderr",
     "output_type": "stream",
     "text": [
      " 49%|████▉     | 44/90 [54:39<1:11:07, 92.77s/it]"
     ]
    },
    {
     "name": "stdout",
     "output_type": "stream",
     "text": [
      "('BLUE', 'killer word selected', 9, ['Team RED spymaster said: COLOR (3).', 'Team RED said: GOLD. The word was neutral.', 'Team BLUE spymaster said: SPORT (3).', 'Team BLUE said: CLUB. The word was BLUE.', 'Team BLUE said: BAR. The word was RED.', 'Team RED spymaster said: HEART (5).', 'Team RED said: GENIUS. The word was neutral.', 'Team BLUE spymaster said: SOVEREIGN (2).', 'Team BLUE said: KING. The word was BLUE.', 'Team BLUE said: ENGLAND. The word was neutral.', 'Team RED spymaster said: HEAT (5).', 'Team RED said: HIMALAYAS. The word was neutral.', 'Team BLUE spymaster said: FLIGHT (2).', 'Team BLUE said: SHIP. The word was BLUE.', 'Team BLUE said: POINT. The word was neutral.', 'Team RED spymaster said: SHAPE (3).', 'Team RED said: ROCK. The word was RED.', 'Team RED said: NAIL. The word was neutral.', 'Team BLUE spymaster said: ACTION (3).', 'Team BLUE said: BAT. The word was BLUE.', 'Team BLUE said: WAR. The word was RED.', 'Team RED spymaster said: SHAPE (2).', 'Team RED said: TUBE. The word was RED.', 'Team RED said: BOX. The word was KILLER.'], 0, 0)\n",
      "Executed llama3.2-11b-vision vs gpt-4o-mini\n",
      "Playing llama3.2-11b-vision vs gpt-3.5-turbo...\n"
     ]
    },
    {
     "name": "stderr",
     "output_type": "stream",
     "text": [
      " 54%|█████▍    | 49/90 [55:25<30:33, 44.72s/it]  "
     ]
    },
    {
     "name": "stdout",
     "output_type": "stream",
     "text": [
      "skipped game between llama3.2-11b-vision and gpt-3.5-turbo: unsupported operand type(s) for +=: 'float' and 'str'\n",
      "Executed llama3.2-11b-vision vs gpt-3.5-turbo\n",
      "Playing llama3.2-90b-vision vs gpt-4o...\n"
     ]
    },
    {
     "name": "stderr",
     "output_type": "stream",
     "text": [
      " 56%|█████▌    | 50/90 [59:35<49:42, 74.57s/it]"
     ]
    },
    {
     "name": "stdout",
     "output_type": "stream",
     "text": [
      "('BLUE', 'cards finished', 6, ['Team RED spymaster said: COUNTRY (2).', 'Team RED said: MEXICO. The word was RED.', 'Team RED said: CANADA. The word was neutral.', 'Team BLUE spymaster said: GAME (3).', 'Team BLUE said: COMIC. The word was BLUE.', 'Team BLUE said: SUIT. The word was BLUE.', 'Team BLUE said: SPY. The word was RED.', 'Team RED spymaster said: STEP (3).', 'Team RED said: MARCH. The word was RED.', 'Team RED said: PASS. The word was BLUE.', 'Team BLUE spymaster said: FORTUNE (2).', 'Team BLUE said: LUCK. The word was BLUE.', 'Team BLUE said: PYRAMID. The word was neutral.', 'Team RED spymaster said: MYTH (2).', 'Team RED said: CENTAUR. The word was RED.', 'Team RED said: MOON. The word was BLUE.', 'Team BLUE spymaster said: NETWORK (2).', 'Team BLUE said: WEB. The word was BLUE.', 'Team BLUE said: TRAIN. The word was BLUE.'], 0, 0)\n",
      "Executed llama3.2-90b-vision vs gpt-4o\n",
      "Playing llama3.2-90b-vision vs gpt-4o-mini...\n"
     ]
    },
    {
     "name": "stderr",
     "output_type": "stream",
     "text": [
      " 57%|█████▋    | 51/90 [1:03:08<1:03:57, 98.41s/it]"
     ]
    },
    {
     "name": "stdout",
     "output_type": "stream",
     "text": [
      "('BLUE', 'killer word selected', 7, ['Team RED spymaster said: THING (3).', 'Team RED said: BOX. The word was RED.', 'Team RED said: HOOK. The word was neutral.', 'Team BLUE spymaster said: CLIMB (2).', 'Team BLUE said: ALPS. The word was BLUE.', 'Team BLUE said: PARACHUTE. The word was neutral.', 'Team RED spymaster said: OFFICE (2).', 'Team RED said: EMBASSY. The word was RED.', 'Team RED said: MAIL. The word was RED.', 'Team BLUE spymaster said: EXPLORE (2).', 'Team BLUE said: TELESCOPE. The word was BLUE.', 'Team BLUE said: WAVE. The word was RED.', 'Team RED spymaster said: FORM (2).', 'Team RED said: SQUARE. The word was RED.', 'Team RED said: DRESS. The word was RED.', 'Team BLUE spymaster said: CROWN (1).', 'Team BLUE said: QUEEN. The word was BLUE.', 'Team RED spymaster said: HUMAN (2).', 'Team RED said: KID. The word was KILLER.'], 0, 0)\n",
      "Executed llama3.2-90b-vision vs gpt-4o-mini\n",
      "Playing llama3.2-90b-vision vs gpt-3.5-turbo...\n"
     ]
    }
   ],
   "source": [
    "# Path to your Excel file\n",
    "file_path = \"experiment_data\\model_tournament\\model_tournament_mich1.xlsx\" #compy the model_tournament_input to use one new\n",
    "\n",
    "# Read the Excel file into a DataFrame\n",
    "df = pd.read_excel(file_path)\n",
    "\n",
    "# Iterate through the rows using titled columns\n",
    "for index, row in tqdm(df.iterrows(), total=len(df)):\n",
    "    # Access values using column titles\n",
    "    red_team = row['red_model']  # Replace with the actual column title for the red team\n",
    "    blue_team = row['blue_model']  # Replace with the actual column title for the blue team\n",
    "    playable = True\n",
    "\n",
    "    already_played = pd.notna(row['winner'])\n",
    "    \n",
    "    if ((pd.notna(red_team) and pd.notna(blue_team)) and not(already_played)):  # Check if both values are not NaN\n",
    "        try:\n",
    "            print(f\"Playing {red_team} vs {blue_team}...\")\n",
    "            # Call your function and get the result\n",
    "            result = codenamesLLM.play_game(red_model = red_team, blue_model = blue_team)\n",
    "            print(result)\n",
    "            red_stats = codenamesLLM.analyze_team_guesses(result[3], \"RED\")\n",
    "            blue_stats = codenamesLLM.analyze_team_guesses(result[3], \"BLUE\")\n",
    "\n",
    "            df.at[index, 'red_model'] = red_team\n",
    "            df.at[index, 'red_model'] = red_team\n",
    "            df.at[index, 'winner'] = result[0]  \n",
    "            df.at[index, 'red_avg_words_2guess'] = red_stats['average_expected_guesses']\n",
    "            df.at[index, 'blue_avg_words_2guess'] = blue_stats['average_expected_guesses']\n",
    "            df.at[index, 'red_avg_words_guessed'] = red_stats['average_correct_guesses']\n",
    "            df.at[index, 'blue_avg_words_guessed'] = blue_stats['average_correct_guesses']\n",
    "            df.at[index, 'reason'] = result[1]\n",
    "            df.at[index, 'red_turns'] = red_stats['total_hints']\n",
    "            df.at[index, 'blue_turns'] = blue_stats['total_hints']\n",
    "            df.at[index, 'red_cib'] = result[4]\n",
    "            df.at[index, 'blue_cib'] = result[5]\n",
    "\n",
    "        except Exception as e:\n",
    "            print(f\"skipped game between {red_team} and {blue_team}: {e}\")\n",
    "\n",
    "    # Write the updated DataFrame back to the same Excel file\n",
    "    df.to_excel(file_path, index=False)\n",
    "    if not already_played:\n",
    "        print(f\"Executed {red_team} vs {blue_team}\")\n"
   ]
  }
 ],
 "metadata": {
  "kernelspec": {
   "display_name": "codenames_env",
   "language": "python",
   "name": "python3"
  },
  "language_info": {
   "codemirror_mode": {
    "name": "ipython",
    "version": 3
   },
   "file_extension": ".py",
   "mimetype": "text/x-python",
   "name": "python",
   "nbconvert_exporter": "python",
   "pygments_lexer": "ipython3",
   "version": "3.11.9"
  }
 },
 "nbformat": 4,
 "nbformat_minor": 2
}
