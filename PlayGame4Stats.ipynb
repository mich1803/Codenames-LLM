{
 "cells": [
  {
   "cell_type": "code",
   "execution_count": null,
   "metadata": {},
   "outputs": [],
   "source": [
    "import codenamesLLM\n",
    "import pandas as pd\n",
    "import openpyxl\n",
    "from tqdm import tqdm"
   ]
  },
  {
   "cell_type": "markdown",
   "metadata": {},
   "source": [
    "# PLAY AGGREGATE GAMES"
   ]
  },
  {
   "cell_type": "code",
   "execution_count": null,
   "metadata": {},
   "outputs": [
    {
     "name": "stderr",
     "output_type": "stream",
     "text": [
      " 44%|████▍     | 23/52 [03:47<15:14, 31.53s/it]"
     ]
    },
    {
     "name": "stdout",
     "output_type": "stream",
     "text": [
      "winner cot: True ;  killer word selected\n"
     ]
    },
    {
     "name": "stderr",
     "output_type": "stream",
     "text": [
      " 46%|████▌     | 24/52 [08:06<32:21, 69.35s/it]"
     ]
    },
    {
     "name": "stdout",
     "output_type": "stream",
     "text": [
      "winner cot: False ;  killer word selected\n"
     ]
    }
   ],
   "source": [
    "# Path to your Excel file\n",
    "file_path = \"experiment_data\\cot_data\\cot_data_2.xlsx\" #compy the model_tournament_input to use one new\n",
    "\n",
    "# Read the Excel file into a DataFrame\n",
    "df = pd.read_excel(file_path)\n",
    "\n",
    "# Iterate through the rows using titled columns\n",
    "for index, row in tqdm(df.iterrows(), total=len(df)):\n",
    "    # Access values using column titles\n",
    "    red_team = row['red_cot']  # Replace with the actual column title for the red team\n",
    "    blue_team = row['blue_cot']  # Replace with the actual column title for the blue team\n",
    "    playable = True\n",
    "\n",
    "\n",
    "    already_played = pd.notna(row['winner'])\n",
    "    \n",
    "    if ((pd.notna(red_team) and pd.notna(blue_team)) and not(already_played)) and playable:  # Check if both values are not NaN\n",
    "        try:\n",
    "            # Call your function and get the result\n",
    "            result = codenamesLLM.play_game(red_cot = red_team, blue_cot = blue_team)\n",
    "            print(\"winner cot:\",red_team if result[0] == \"RED\" else blue_team,\"; \", result[1])\n",
    "            red_stats = codenamesLLM.analyze_team_guesses(result[3], \"RED\")\n",
    "            blue_stats = codenamesLLM.analyze_team_guesses(result[3], \"BLUE\")\n",
    "\n",
    "            df.at[index, 'red_cot'] = red_team\n",
    "            df.at[index, 'blue_cot'] = blue_team\n",
    "            df.at[index, 'winner'] = result[0]  \n",
    "            df.at[index, 'red_avg_words_2guess'] = red_stats['average_expected_guesses']\n",
    "            df.at[index, 'blue_avg_words_2guess'] = blue_stats['average_expected_guesses']\n",
    "            df.at[index, 'red_avg_words_guessed'] = red_stats['average_correct_guesses']\n",
    "            df.at[index, 'blue_avg_words_guessed'] = blue_stats['average_correct_guesses']\n",
    "            df.at[index, 'reason'] = result[1]\n",
    "            df.at[index, 'red_turns'] = red_stats['total_hints']\n",
    "            df.at[index, 'blue_turns'] = blue_stats['total_hints']\n",
    "            df.at[index, 'red_cib'] = result[4]\n",
    "            df.at[index, 'blue_cib'] = result[5]\n",
    "\n",
    "        except Exception as e:\n",
    "            print(f\"skipped game: {e}\")\n",
    "\n",
    "    # Write the updated DataFrame back to the same Excel file\n",
    "    df.to_excel(file_path, index=False)\n"
   ]
  },
  {
   "cell_type": "markdown",
   "metadata": {},
   "source": [
    "# TOURNAMENT DATA PROCESS"
   ]
  },
  {
   "cell_type": "code",
   "execution_count": 11,
   "metadata": {},
   "outputs": [],
   "source": [
    "import pandas as pd\n",
    "\n",
    "def process_tournament_data(input_path, output_path):\n",
    "    # Load the data\n",
    "    df = pd.read_excel(input_path)\n",
    "\n",
    "    # Function to calculate metrics\n",
    "    def calculate_metrics(group):\n",
    "        wins = group['winner'] == group['role'].str.upper()\n",
    "        losses = ~wins\n",
    "        card_finished = group['reason'] == 'cards finished'\n",
    "        killer_word = group['reason'] == 'killer word selected'\n",
    "\n",
    "        return {\n",
    "            \"model_name\": group[\"model\"].iloc[0],\n",
    "            \"games_played\": len(group),\n",
    "            \"wins\": wins.sum(),\n",
    "            \"win_percentage\": 100 * wins.sum() / len(group),\n",
    "            \"win_by_cards_finished\": (wins & card_finished).sum(),\n",
    "            \"wins_by_killer_words\": (wins & killer_word).sum(),\n",
    "            \"losses_by_card_finished\": (losses & card_finished).sum(),\n",
    "            \"losses_by_killer_words\": (losses & killer_word).sum(),\n",
    "            \"average_word_to_guess\": group['avg_words_2guess'].mean(),\n",
    "            \"average_word_to_guess_when_wins\": group.loc[wins, 'avg_words_2guess'].mean(),\n",
    "            \"average_word_to_guess_when_lose\": group.loc[losses, 'avg_words_2guess'].mean(),\n",
    "            \"average_word_to_guess_when_wins_by_ending_cards\": group.loc[wins & card_finished, 'avg_words_2guess'].mean(),\n",
    "            \"average_word_to_guess_when_loses_by_ending_cards\": group.loc[losses & card_finished, 'avg_words_2guess'].mean(),\n",
    "            \"average_word_to_guess_when_wins_by_killer_card\": group.loc[wins & killer_word, 'avg_words_2guess'].mean(),\n",
    "            \"average_word_to_guess_when_loses_by_killer_card\": group.loc[losses & killer_word, 'avg_words_2guess'].mean(),\n",
    "            \"average_word_guessed\": group['avg_words_guessed'].mean(),\n",
    "            \"average_word_guessed_when_wins\": group.loc[wins, 'avg_words_guessed'].mean(),\n",
    "            \"average_word_guessed_when_lose\": group.loc[losses, 'avg_words_guessed'].mean(),\n",
    "            \"average_word_guessed_when_wins_by_ending_cards\": group.loc[wins & card_finished, 'avg_words_guessed'].mean(),\n",
    "            \"average_word_guessed_when_loses_by_ending_cards\": group.loc[losses & card_finished, 'avg_words_guessed'].mean(),\n",
    "            \"average_word_guessed_when_wins_by_killer_card\": group.loc[wins & killer_word, 'avg_words_guessed'].mean(),\n",
    "            \"average_word_guessed_when_loses_by_killer_card\": group.loc[losses & killer_word, 'avg_words_guessed'].mean(),\n",
    "            \"average_turns\": group['turns'].mean(),\n",
    "            \"average_turns_when_wins\": group.loc[wins, 'turns'].mean(),\n",
    "            \"average_turns_when_lose\": group.loc[losses, 'turns'].mean(),\n",
    "            \"average_turns_when_wins_by_ending_cards\": group.loc[wins & card_finished, 'turns'].mean(),\n",
    "            \"average_turns_when_loses_by_ending_cards\": group.loc[losses & card_finished, 'turns'].mean(),\n",
    "            \"average_turns_when_wins_by_killer_cards\": group.loc[wins & killer_word, 'turns'].mean(),\n",
    "            \"average_turns_when_loses_by_killer_cards\": group.loc[losses & killer_word, 'turns'].mean(),\n",
    "            \"total_cib\": group['cib'].sum()\n",
    "        }\n",
    "\n",
    "    # Reshape the dataset to treat roles equivalently\n",
    "    red_df = df.rename(columns=lambda x: x.replace('red_', '')).assign(role='red', model=df['red_model'])\n",
    "    blue_df = df.rename(columns=lambda x: x.replace('blue_', '')).assign(role='blue', model=df['blue_model'])\n",
    "    combined_df = pd.concat([red_df, blue_df], ignore_index=True)\n",
    "\n",
    "    # Metrics for models as a whole\n",
    "    overall_metrics = combined_df.groupby(\"model\").apply(calculate_metrics).apply(pd.Series)\n",
    "\n",
    "    # Metrics for models playing as Red\n",
    "    red_metrics = red_df.groupby(\"model\").apply(calculate_metrics).apply(pd.Series)\n",
    "    red_metrics['role'] = 'red'\n",
    "\n",
    "    # Metrics for models playing as Blue\n",
    "    blue_metrics = blue_df.groupby(\"model\").apply(calculate_metrics).apply(pd.Series)\n",
    "    blue_metrics['role'] = 'blue'\n",
    "\n",
    "    # Save the results to an Excel file with three sheets\n",
    "    with pd.ExcelWriter(output_path, engine='xlsxwriter') as writer:\n",
    "        overall_metrics.to_excel(writer, sheet_name='Overall', index=False)\n",
    "        red_metrics.to_excel(writer, sheet_name='Red', index=False)\n",
    "        blue_metrics.to_excel(writer, sheet_name='Blue', index=False)\n"
   ]
  },
  {
   "cell_type": "code",
   "execution_count": null,
   "metadata": {},
   "outputs": [],
   "source": [
    "input_path = 'experiment_data\\model_tournament\\model_tournament.xlsx'  # Replace with your input file path\n",
    "output_path = 'experiment_data\\model_tournament\\model_tournament_stats.xlsx'  # Replace with your output file path\n",
    "\n",
    "# Run the process\n",
    "process_tournament_data(input_path, output_path)"
   ]
  },
  {
   "cell_type": "markdown",
   "metadata": {},
   "source": [
    "# COT DATA PROCESS"
   ]
  },
  {
   "cell_type": "code",
   "execution_count": 15,
   "metadata": {},
   "outputs": [],
   "source": [
    "import pandas as pd\n",
    "\n",
    "def process_tournament_data_by_cot(input_path, output_path):\n",
    "    # Load the data\n",
    "    df = pd.read_excel(input_path)\n",
    "\n",
    "    # Function to calculate metrics\n",
    "    def calculate_metrics(group):\n",
    "        wins = group['winner'] == group['role'].str.upper()\n",
    "        losses = ~wins\n",
    "        card_finished = group['reason'] == 'cards finished'\n",
    "        killer_word = group['reason'] == 'killer word selected'\n",
    "\n",
    "        return {\n",
    "            \"cot\": group[\"cot\"].iloc[0],\n",
    "            \"games_played\": len(group),\n",
    "            \"wins\": wins.sum(),\n",
    "            \"win_percentage\": 100 * wins.sum() / len(group),\n",
    "            \"win_by_cards_finished\": (wins & card_finished).sum(),\n",
    "            \"wins_by_killer_words\": (wins & killer_word).sum(),\n",
    "            \"losses_by_card_finished\": (losses & card_finished).sum(),\n",
    "            \"losses_by_killer_words\": (losses & killer_word).sum(),\n",
    "            \"average_word_to_guess\": group['avg_words_2guess'].mean(),\n",
    "            \"average_word_to_guess_when_wins\": group.loc[wins, 'avg_words_2guess'].mean(),\n",
    "            \"average_word_to_guess_when_lose\": group.loc[losses, 'avg_words_2guess'].mean(),\n",
    "            \"average_word_guessed\": group['avg_words_guessed'].mean(),\n",
    "            \"average_word_guessed_when_wins\": group.loc[wins, 'avg_words_guessed'].mean(),\n",
    "            \"average_word_guessed_when_lose\": group.loc[losses, 'avg_words_guessed'].mean(),\n",
    "            \"average_turns\": group['turns'].mean(),\n",
    "            \"average_turns_when_wins\": group.loc[wins, 'turns'].mean(),\n",
    "            \"average_turns_when_lose\": group.loc[losses, 'turns'].mean(),\n",
    "            \"total_cib\": group['cib'].sum()\n",
    "        }\n",
    "\n",
    "    # Reshape the dataset to unify red and blue roles\n",
    "    red_df = df.rename(columns=lambda x: x.replace('red_', '')).assign(role='red', cot=df['red_cot'])\n",
    "    blue_df = df.rename(columns=lambda x: x.replace('blue_', '')).assign(role='blue', cot=df['blue_cot'])\n",
    "    combined_df = pd.concat([red_df, blue_df], ignore_index=True)\n",
    "\n",
    "    # Metrics for cot\n",
    "    overall_metrics = combined_df.groupby(\"cot\").apply(calculate_metrics).apply(pd.Series)\n",
    "\n",
    "    # Metrics for cot in Red role\n",
    "    red_metrics = red_df.groupby(\"cot\").apply(calculate_metrics).apply(pd.Series)\n",
    "    red_metrics['role'] = 'red'\n",
    "\n",
    "    # Metrics for cot in Blue role\n",
    "    blue_metrics = blue_df.groupby(\"cot\").apply(calculate_metrics).apply(pd.Series)\n",
    "    blue_metrics['role'] = 'blue'\n",
    "\n",
    "    # Save the results to an Excel file with three sheets\n",
    "    with pd.ExcelWriter(output_path, engine='xlsxwriter') as writer:\n",
    "        overall_metrics.to_excel(writer, sheet_name='Overall', index=False)\n",
    "        red_metrics.to_excel(writer, sheet_name='Red', index=False)\n",
    "        blue_metrics.to_excel(writer, sheet_name='Blue', index=False)\n"
   ]
  },
  {
   "cell_type": "code",
   "execution_count": null,
   "metadata": {},
   "outputs": [],
   "source": [
    "# Example usage:\n",
    "input_path = 'experiment_data\\cot_data\\cot_data.xlsx'\n",
    "output_path = 'experiment_data\\cot_data\\cot_data_stats.xlsx'\n",
    "process_tournament_data_by_cot(input_path, output_path)"
   ]
  }
 ],
 "metadata": {
  "kernelspec": {
   "display_name": "codenames_env",
   "language": "python",
   "name": "python3"
  },
  "language_info": {
   "codemirror_mode": {
    "name": "ipython",
    "version": 3
   },
   "file_extension": ".py",
   "mimetype": "text/x-python",
   "name": "python",
   "nbconvert_exporter": "python",
   "pygments_lexer": "ipython3",
   "version": "3.11.9"
  }
 },
 "nbformat": 4,
 "nbformat_minor": 2
}
